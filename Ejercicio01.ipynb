{
  "nbformat": 4,
  "nbformat_minor": 0,
  "metadata": {
    "colab": {
      "provenance": []
    },
    "kernelspec": {
      "name": "python3",
      "display_name": "Python 3"
    },
    "language_info": {
      "name": "python"
    }
  },
  "cells": [
    {
      "cell_type": "markdown",
      "metadata": {
        "id": "view-in-github"
      },
      "source": [
        "<a href=\"https://colab.research.google.com/github/elliot12-l/Ejercicios_Unidad_01-B/blob/main/Ejercicio_1.ipynb\" target=\"_parent\"><img src=\"https://colab.research.google.com/assets/colab-badge.svg\" alt=\"Open In Colab\"/></a>"
      ]
    },
    {
      "cell_type": "markdown",
      "source": [
        "En orden ascendente."
      ],
      "metadata": {
        "id": "2_Oa4VkOkHAC"
      }
    },
    {
      "cell_type": "code",
      "source": [
        "def truncate(num:float, digits:int)->float:\n",
        "  ''' Rounds the given ``num`` with the given significant ``digits``.\n",
        "  Used for arithmetic computation.\n",
        "  '''\n",
        "  num = float(f\"{num:.{digits - 1}e}\")\n",
        "  return num\n",
        "\n",
        "def sumatoriaUno (limiteSup: int):\n",
        "    suma = 0\n",
        "    for i in range(limiteSup):\n",
        "        suma = truncate(suma + truncate(1/truncate((i+1)**2,3),3),3)\n",
        "    return suma\n",
        "print(sumatoriaUno(10))\n",
        "\n",
        "\n",
        "def sumatoriaUno (limiteSup: int):\n",
        "    suma = 0\n",
        "    for i in range(limiteSup):\n",
        "        suma = truncate(suma + truncate(1/truncate((i+1)**3,3),3),3)\n",
        "    return suma\n",
        "print(sumatoriaUno(10))"
      ],
      "metadata": {
        "colab": {
          "base_uri": "https://localhost:8080/"
        },
        "id": "ChSY8lqV-7jS",
        "outputId": "12572412-9a59-4028-959d-5ae347a95999"
      },
      "execution_count": 1,
      "outputs": [
        {
          "output_type": "stream",
          "name": "stdout",
          "text": [
            "1.55\n",
            "1.19\n"
          ]
        }
      ]
    },
    {
      "cell_type": "markdown",
      "source": [
        "En orden descendente."
      ],
      "metadata": {
        "id": "Z3tz8NNDmA5C"
      }
    },
    {
      "cell_type": "code",
      "source": [
        "def truncate(num:float, digits:int)->float:\n",
        "  ''' Rounds the given ``num`` with the given significant ``digits``.\n",
        "  Used for arithmetic computation.\n",
        "  '''\n",
        "  num = float(f\"{num:.{digits - 1}e}\")\n",
        "  return num\n",
        "\n",
        "def sumatoriaDos (limiteSup: int):\n",
        "    suma = 0\n",
        "    for i in reversed(range(limiteSup)):\n",
        "        suma = truncate(suma + truncate(1/truncate((i+1)**2,3),3),3)\n",
        "    return suma\n",
        "print(sumatoriaDos(10))\n",
        "\n",
        "\n",
        "def sumatoriaDos (limiteSup: int):\n",
        "    suma = 0\n",
        "    for i in reversed(range(limiteSup)):\n",
        "        suma = truncate(suma + truncate(1/truncate((i+1)**3,3),3),3)\n",
        "    return suma\n",
        "print(sumatoriaDos(10))"
      ],
      "metadata": {
        "colab": {
          "base_uri": "https://localhost:8080/"
        },
        "id": "-ckyEL1ZAE_5",
        "outputId": "7333ac79-58ff-4360-de3d-66f61f53b926"
      },
      "execution_count": 2,
      "outputs": [
        {
          "output_type": "stream",
          "name": "stdout",
          "text": [
            "1.55\n",
            "1.2\n"
          ]
        }
      ]
    }
  ]
}