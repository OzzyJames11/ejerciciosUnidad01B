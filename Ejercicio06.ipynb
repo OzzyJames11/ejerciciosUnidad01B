{
  "nbformat": 4,
  "nbformat_minor": 0,
  "metadata": {
    "colab": {
      "provenance": []
    },
    "kernelspec": {
      "name": "python3",
      "display_name": "Python 3"
    },
    "language_info": {
      "name": "python"
    }
  },
  "cells": [
    {
      "cell_type": "markdown",
      "metadata": {
        "id": "view-in-github"
      },
      "source": [
        "<a href=\"https://colab.research.google.com/github/elliot12-l/Ejercicios_Unidad_01-B/blob/main/Ejercicio_6.ipynb\" target=\"_parent\"><img src=\"https://colab.research.google.com/assets/colab-badge.svg\" alt=\"Open In Colab\"/></a>"
      ]
    },
    {
      "cell_type": "markdown",
      "source": [
        "## Código en Python para sumar la serie finita en orden inverso"
      ],
      "metadata": {
        "id": "k4LAOd5PS-OB"
      }
    },
    {
      "cell_type": "code",
      "source": [
        "def sumarSerieInversa(n: int, x: float) -> float:\n",
        "    suma = 0\n",
        "    for i in range(n, 0, -1):\n",
        "        suma +=  i\n",
        "    return suma"
      ],
      "metadata": {
        "id": "-VB6BAKYTCd9"
      },
      "execution_count": 4,
      "outputs": []
    },
    {
      "cell_type": "markdown",
      "source": [
        "# Ejemplo de uso de sumarSerieInversa"
      ],
      "metadata": {
        "id": "YtXu3-VfTDau"
      }
    },
    {
      "cell_type": "code",
      "source": [
        "n = 5\n",
        "x = 2\n",
        "resultado = sumarSerieInversa(n, x)\n",
        "print(\"La suma de la serie en orden inverso es:\", resultado)"
      ],
      "metadata": {
        "id": "3IU-iCLsTE0o",
        "colab": {
          "base_uri": "https://localhost:8080/"
        },
        "outputId": "64900303-af06-4112-e9bf-a7d6529b1947"
      },
      "execution_count": 5,
      "outputs": [
        {
          "output_type": "stream",
          "name": "stdout",
          "text": [
            "La suma de la serie en orden inverso es: 15\n"
          ]
        }
      ]
    }
  ]
}