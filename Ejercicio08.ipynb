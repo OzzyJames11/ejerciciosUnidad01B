{
  "nbformat": 4,
  "nbformat_minor": 0,
  "metadata": {
    "colab": {
      "provenance": []
    },
    "kernelspec": {
      "name": "python3",
      "display_name": "Python 3"
    },
    "language_info": {
      "name": "python"
    }
  },
  "cells": [
    {
      "cell_type": "markdown",
      "metadata": {
        "id": "view-in-github"
      },
      "source": [
        "<a href=\"https://colab.research.google.com/github/elliot12-l/Ejercicios_Unidad_01-B/blob/main/Ejercicio_8.ipynb\" target=\"_parent\"><img src=\"https://colab.research.google.com/assets/colab-badge.svg\" alt=\"Open In Colab\"/></a>"
      ]
    },
    {
      "cell_type": "markdown",
      "source": [
        "Función del código que realiza el cálculo del lado izquierdo de la igualdad, recibe como parametros el numero de interaciones que se desea realizar y el valor de x.\n"
      ],
      "metadata": {
        "id": "OONW3bbISH1K"
      }
    },
    {
      "cell_type": "code",
      "source": [
        "def ladoIzquierdo(n:int,x:int) -> float:\n",
        "    serie = [0]\n",
        "    serie2 = [1]\n",
        "    serie3 = [1]\n",
        "    res = 0\n",
        "    for i in range(1,n):\n",
        "        res += (serie2[-1]*(x**serie[-1])-(2**i)*(x**serie3[-1]))/(1-x**serie2[-1]+x**(2**i))\n",
        "        serie.append(serie[-1]+i)\n",
        "        serie2.append(serie2[-1]*2)\n",
        "        serie3.append(serie3[-1] + (2 ** i))\n",
        "\n",
        "    return res\n"
      ],
      "metadata": {
        "id": "PuhttWRvSGQ3"
      },
      "execution_count": 1,
      "outputs": []
    },
    {
      "cell_type": "markdown",
      "source": [
        "## Función que realiza el cálculo del lado derecho de la igualdad, recibe como parametros el valor de x.\n"
      ],
      "metadata": {
        "id": "EhQ0gVgySKYz"
      }
    },
    {
      "cell_type": "code",
      "source": [
        "def ladoDerecho(x:int)->float:\n",
        "    res_equa = (1+2*x)/(1+x+x**2)\n",
        "    return res_equa"
      ],
      "metadata": {
        "id": "mX9bskvOSN6k"
      },
      "execution_count": 2,
      "outputs": []
    },
    {
      "cell_type": "markdown",
      "source": [
        "##llamadas a las funciones"
      ],
      "metadata": {
        "id": "hE9reMnJSO9f"
      }
    },
    {
      "cell_type": "code",
      "source": [
        "p1 = ladoDerecho(0.25)\n",
        "print(p1)\n",
        "p2 = ladoIzquierdo(4,0.25)\n",
        "print(p2)"
      ],
      "metadata": {
        "id": "55onU3C0SQbW",
        "outputId": "de3e2719-3374-4d75-e348-cb0b7fcbc4c7",
        "colab": {
          "base_uri": "https://localhost:8080/"
        }
      },
      "execution_count": 4,
      "outputs": [
        {
          "output_type": "stream",
          "name": "stdout",
          "text": [
            "1.1428571428571428\n",
            "1.1423688541567898\n"
          ]
        }
      ]
    },
    {
      "cell_type": "markdown",
      "source": [
        "##cálculo de los errores, aqui se observa si el error es menor a 10^-6"
      ],
      "metadata": {
        "id": "EKGGFDABSRc2"
      }
    },
    {
      "cell_type": "code",
      "execution_count": null,
      "metadata": {
        "id": "95qX-INXSDEm",
        "outputId": "659584cf-2ca8-490b-85dc-ab3efefcc861",
        "colab": {
          "base_uri": "https://localhost:8080/"
        }
      },
      "outputs": [
        {
          "output_type": "stream",
          "name": "stdout",
          "text": [
            "0.00042725261280887605\n",
            "0.0004882887003530012\n"
          ]
        }
      ],
      "source": [
        "error = abs((p1-p2)/p1)\n",
        "print(error)\n",
        "errorabs= abs(p1-p2)\n",
        "print(errorabs)"
      ]
    }
  ]
}