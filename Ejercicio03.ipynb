{
  "nbformat": 4,
  "nbformat_minor": 0,
  "metadata": {
    "colab": {
      "provenance": []
    },
    "kernelspec": {
      "name": "python3",
      "display_name": "Python 3"
    },
    "language_info": {
      "name": "python"
    }
  },
  "cells": [
    {
      "cell_type": "code",
      "execution_count": null,
      "metadata": {
        "colab": {
          "base_uri": "https://localhost:8080/"
        },
        "id": "qT3q-e1cVjct",
        "outputId": "e87f0bce-bcb2-42ee-e2af-ec2aad386595"
      },
      "outputs": [
        {
          "output_type": "stream",
          "name": "stdout",
          "text": [
            "Se necesitan al menos 2 términos para aproximar π dentro de 0.001.\n",
            "π aproximado con 2 términos: 3.1405970293260603\n",
            "Diferencia con el valor real de π: 0.0009956242637327861\n"
          ]
        }
      ],
      "source": [
        "import math\n",
        "\n",
        "# Función para calcular arctan(x) usando la serie de Taylor\n",
        "def arctan(x, terms):\n",
        "    arctan_sum = 0\n",
        "    for n in range(terms):\n",
        "        term = ((-1) ** n) * (x ** (2 * n + 1)) / (2 * n + 1)\n",
        "        arctan_sum += term\n",
        "    return arctan_sum\n",
        "\n",
        "# Función para calcular pi usando la identidad dada y una cantidad de términos\n",
        "def calculate_pi(terms):\n",
        "    arctan_1_5 = arctan(1/5, terms)\n",
        "    arctan_1_239 = arctan(1/239, terms)\n",
        "    pi_approx = 4 * (4 * arctan_1_5 - arctan_1_239)\n",
        "    return pi_approx\n",
        "\n",
        "# Función para encontrar el número de términos necesarios para la precisión deseada\n",
        "def find_required_terms(precision=1e-3):\n",
        "    true_pi = math.pi\n",
        "    terms = 1\n",
        "    while True:\n",
        "        pi_approx = calculate_pi(terms)\n",
        "        if abs(pi_approx - true_pi) < precision:\n",
        "            break\n",
        "        terms += 1\n",
        "    return terms\n",
        "\n",
        "# Ejecución del código para encontrar el número de términos\n",
        "required_terms = find_required_terms()\n",
        "print(f\"Se necesitan al menos {required_terms} términos para aproximar π dentro de {10**-3}.\")\n",
        "\n",
        "# Calcular π usando el número requerido de términos\n",
        "pi_approx = calculate_pi(required_terms)\n",
        "print(f\"π aproximado con {required_terms} términos: {pi_approx}\")\n",
        "print(f\"Diferencia con el valor real de π: {abs(math.pi - pi_approx)}\")\n"
      ]
    }
  ]
}