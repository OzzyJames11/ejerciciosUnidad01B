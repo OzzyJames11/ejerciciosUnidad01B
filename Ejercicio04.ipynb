{
  "metadata": {
    "kernelspec": {
      "name": "python",
      "display_name": "Python (Pyodide)",
      "language": "python"
    },
    "language_info": {
      "codemirror_mode": {
        "name": "python",
        "version": 3
      },
      "file_extension": ".py",
      "mimetype": "text/x-python",
      "name": "python",
      "nbconvert_exporter": "python",
      "pygments_lexer": "ipython3",
      "version": "3.8"
    },
    "colab": {
      "provenance": []
    }
  },
  "nbformat_minor": 0,
  "nbformat": 4,
  "cells": [
    {
      "cell_type": "markdown",
      "source": [
        "## Definición de los 3 algoritmos"
      ],
      "metadata": {
        "id": "oMX-w5KHrEI6"
      }
    },
    {
      "cell_type": "code",
      "source": [
        "def Algoritmo_1(valores):\n",
        "    producto = 0\n",
        "    for x in valores:\n",
        "        producto *= 1/(x**2)\n",
        "    return producto\n",
        "\n",
        "valores_1a = [10, 9, 8, 7, 6, 5, 4, 3, 2, 1]\n",
        "print(\"Resultado del algoritmo 1:\", Algoritmo_1(valores_1a))"
      ],
      "metadata": {
        "trusted": true,
        "colab": {
          "base_uri": "https://localhost:8080/"
        },
        "id": "vIkuq3VEqCM_",
        "outputId": "3263edb9-fe26-454f-d024-7da0989d16ce"
      },
      "outputs": [
        {
          "output_type": "stream",
          "name": "stdout",
          "text": [
            "Resultado del algoritmo 1: 0.0\n"
          ]
        }
      ],
      "execution_count": 1
    },
    {
      "cell_type": "code",
      "source": [
        "def Algoritmo_2(valores):\n",
        "    producto = 1\n",
        "    for x in valores:\n",
        "        producto *= (1/x**2)\n",
        "    return producto\n",
        "\n",
        "valores_1a = [10, 9, 8, 7, 6, 5, 4, 3, 2, 1]\n",
        "print(\"Resultado del algoritmo 2:\", Algoritmo_2(valores_1a))"
      ],
      "metadata": {
        "trusted": true,
        "colab": {
          "base_uri": "https://localhost:8080/"
        },
        "id": "1pg8yfpNqCNA",
        "outputId": "19d17f62-b9a4-4119-b6c8-a40e57562da4"
      },
      "outputs": [
        {
          "output_type": "stream",
          "name": "stdout",
          "text": [
            "Resultado del algoritmo 2: 7.594058428126622e-14\n"
          ]
        }
      ],
      "execution_count": 2
    },
    {
      "cell_type": "code",
      "source": [
        "def Algoritmo_3(valores):\n",
        "    producto = 1\n",
        "    for x in valores:\n",
        "        if x == 0:\n",
        "            producto = 0\n",
        "            return producto\n",
        "        producto *= (1/x**2)\n",
        "    return producto\n",
        "\n",
        "valores_1a = [10, 9, 8, 7, 6, 5, 4, 3, 2, 1]\n",
        "print(\"Resultado del algoritmo 3:\", Algoritmo_3(valores_1a))"
      ],
      "metadata": {
        "trusted": true,
        "colab": {
          "base_uri": "https://localhost:8080/"
        },
        "id": "MjAprRvIqCNB",
        "outputId": "fbb7c9c0-afab-4235-acc8-7dcd8e3a7966"
      },
      "outputs": [
        {
          "output_type": "stream",
          "name": "stdout",
          "text": [
            "Resultado del algoritmo 3: 7.594058428126622e-14\n"
          ]
        }
      ],
      "execution_count": 3
    },
    {
      "cell_type": "markdown",
      "source": [
        "## Ejecución de los Tres Algoritmos"
      ],
      "metadata": {
        "id": "cCmugW8aqCNB"
      }
    },
    {
      "cell_type": "code",
      "source": [
        "def Algoritmo_1(valores):\n",
        "    producto = 0\n",
        "    for x in valores:\n",
        "        producto *= 1/(x**2)\n",
        "    return producto\n",
        "\n",
        "valores_1a = [10, 9, 8, 7, 6, 5, 4, 3, 2, 1]\n",
        "print(\"Resultado del algoritmo 1:\", Algoritmo_1(valores_1a))\n"
      ],
      "metadata": {
        "trusted": true,
        "colab": {
          "base_uri": "https://localhost:8080/"
        },
        "id": "U8I--iH5qCNC",
        "outputId": "7b8ab32c-3a3e-4598-aa6a-3271c14d7831"
      },
      "outputs": [
        {
          "output_type": "stream",
          "name": "stdout",
          "text": [
            "Resultado del algoritmo 1: 0.0\n"
          ]
        }
      ],
      "execution_count": 4
    },
    {
      "cell_type": "code",
      "source": [
        "def Algoritmo_2(valores):\n",
        "    producto = 1\n",
        "    for x in valores:\n",
        "        producto *= (1/x**2)\n",
        "    return producto\n",
        "\n",
        "valores_1a = [10, 9, 8, 7, 6, 5, 4, 3, 2, 1]\n",
        "print(\"Resultado del algoritmo 2:\", Algoritmo_2(valores_1a))\n"
      ],
      "metadata": {
        "trusted": true,
        "colab": {
          "base_uri": "https://localhost:8080/"
        },
        "id": "kUkY9o9_qCNC",
        "outputId": "a3594388-dcce-4875-a6b3-55f61d438fb2"
      },
      "outputs": [
        {
          "output_type": "stream",
          "name": "stdout",
          "text": [
            "Resultado del algoritmo 2: 7.594058428126622e-14\n"
          ]
        }
      ],
      "execution_count": 5
    },
    {
      "cell_type": "code",
      "source": [
        "def Algoritmo_3(valores):\n",
        "    producto = 1\n",
        "    for x in valores:\n",
        "        if x == 0:\n",
        "            producto = 0\n",
        "            return producto\n",
        "        producto *= (1/x**2)\n",
        "    return producto\n",
        "\n",
        "valores_1a = [10, 9, 8, 7, 6, 5, 4, 3, 2, 1]\n",
        "print(\"Resultado del algoritmo 3:\", Algoritmo_3(valores_1a))\n"
      ],
      "metadata": {
        "trusted": true,
        "colab": {
          "base_uri": "https://localhost:8080/"
        },
        "id": "2--qYiRcqCND",
        "outputId": "92eaa3b3-bdf7-49c1-95b2-d1b33705fc0b"
      },
      "outputs": [
        {
          "output_type": "stream",
          "name": "stdout",
          "text": [
            "Resultado del algoritmo 3: 7.594058428126622e-14\n"
          ]
        }
      ],
      "execution_count": 6
    }
  ]
}