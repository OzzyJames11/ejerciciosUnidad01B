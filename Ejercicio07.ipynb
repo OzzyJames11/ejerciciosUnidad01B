{
  "nbformat": 4,
  "nbformat_minor": 0,
  "metadata": {
    "colab": {
      "provenance": []
    },
    "kernelspec": {
      "name": "python3",
      "display_name": "Python 3"
    },
    "language_info": {
      "name": "python"
    }
  },
  "cells": [
    {
      "cell_type": "markdown",
      "metadata": {
        "id": "view-in-github"
      },
      "source": [
        "<a href=\"https://colab.research.google.com/github/elliot12-l/Ejercicios_Unidad_01-B/blob/main/Ejercicio_7.ipynb\" target=\"_parent\"><img src=\"https://colab.research.google.com/assets/colab-badge.svg\" alt=\"Open In Colab\"/></a>"
      ]
    },
    {
      "cell_type": "markdown",
      "source": [
        "## Definición de la función formulaGeneral"
      ],
      "metadata": {
        "id": "rgmhoEcvVJuE"
      }
    },
    {
      "cell_type": "code",
      "source": [
        "import math\n",
        "def formulaGeneral(a, b, c):\n",
        "  discriminante = b**2 - 4*a*c\n",
        "  if discriminante > 0:\n",
        "    # Dos raices diferentes\n",
        "    x1 = (-b + (math.sqrt(discriminante)))/2*a\n",
        "    x2 = (-b - (math.sqrt(discriminante)))/2*a\n",
        "\n",
        "    return x1, x2\n",
        "  elif discriminante == 0:\n",
        "    # Dos raices iguales\n",
        "    x = -b / (2*a)\n",
        "\n",
        "    return x, x\n",
        "  else:\n",
        "    # Raices complejas\n",
        "    parte_real = -b / (2*a)\n",
        "    parte_imaginaria = math.sqrt(abs(discriminante)) / (2*a)\n",
        "\n",
        "    x1 = complex(parte_real, parte_imaginaria)\n",
        "    x2 = complex(parte_real, -parte_imaginaria)\n",
        "\n",
        "    return x1, x2\n"
      ],
      "metadata": {
        "id": "B-tfyCFzVNWM"
      },
      "execution_count": 4,
      "outputs": []
    },
    {
      "cell_type": "markdown",
      "source": [
        "## Ejecucion del codigo"
      ],
      "metadata": {
        "id": "h9lk5hQpWz0z"
      }
    },
    {
      "cell_type": "code",
      "source": [
        "ec1 = formulaGeneral(1, 6, 8)\n",
        "print('Raices diferentes:', ec1)\n",
        "ec2 = formulaGeneral(1, -4, 4)\n",
        "print('Raíces iguales: ', ec2)\n",
        "ec3 = formulaGeneral(2, 1, 2)\n",
        "print('Raice complejaz: ', ec3)"
      ],
      "metadata": {
        "colab": {
          "base_uri": "https://localhost:8080/"
        },
        "id": "WQ_3IwVtVO12",
        "outputId": "2f511d45-a57e-4fce-fd6c-1d24406d4a94"
      },
      "execution_count": 5,
      "outputs": [
        {
          "output_type": "stream",
          "name": "stdout",
          "text": [
            "Raices diferentes: (-2.0, -4.0)\n",
            "Raíces iguales:  (2.0, 2.0)\n",
            "Raice complejaz:  ((-0.25+0.9682458365518543j), (-0.25-0.9682458365518543j))\n"
          ]
        }
      ]
    }
  ]
}